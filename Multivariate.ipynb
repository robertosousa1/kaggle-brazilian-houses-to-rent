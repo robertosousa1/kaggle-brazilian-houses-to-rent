{
 "cells": [
  {
   "cell_type": "markdown",
   "metadata": {},
   "source": [
    "## Explore the rent amount (R$)\n",
    "\n",
    "### Multivariate statistics\n",
    "\n",
    "#### Questions \n",
    "- Which city has the most expensive rental average?\n",
    "- How many bathrooms are there on average in homes with higher rent?\n",
    "- Do the most expensive properties accept animals?\n",
    "- Are the most expensive properties furnished?\n",
    "\n",
    "\n",
    "#### Hypotheses\n",
    "- São Paulo is the city with the most expensive rent.\n",
    "- The more bathrooms in a property the higher the value of the rent.\n",
    "- Furnished properties have the most expensive rent."
   ]
  },
  {
   "cell_type": "code",
   "execution_count": 155,
   "metadata": {},
   "outputs": [],
   "source": [
    "import pandas as pd"
   ]
  },
  {
   "cell_type": "code",
   "execution_count": 100,
   "metadata": {},
   "outputs": [],
   "source": [
    "df = pd.read_csv('houses_to_rent_v2.csv')"
   ]
  },
  {
   "cell_type": "code",
   "execution_count": 101,
   "metadata": {},
   "outputs": [],
   "source": [
    "df.rename(columns = {'rent amount (R$)': 'rent_amount'}, inplace = True)"
   ]
  },
  {
   "cell_type": "code",
   "execution_count": 102,
   "metadata": {},
   "outputs": [
    {
     "data": {
      "text/plain": [
       "Index(['city', 'area', 'rooms', 'bathroom', 'parking spaces', 'floor',\n",
       "       'animal', 'furniture', 'hoa (R$)', 'rent_amount', 'property tax (R$)',\n",
       "       'fire insurance (R$)', 'total (R$)'],\n",
       "      dtype='object')"
      ]
     },
     "execution_count": 102,
     "metadata": {},
     "output_type": "execute_result"
    }
   ],
   "source": [
    "df.columns"
   ]
  },
  {
   "cell_type": "code",
   "execution_count": 103,
   "metadata": {},
   "outputs": [
    {
     "data": {
      "text/html": [
       "<div>\n",
       "<style scoped>\n",
       "    .dataframe tbody tr th:only-of-type {\n",
       "        vertical-align: middle;\n",
       "    }\n",
       "\n",
       "    .dataframe tbody tr th {\n",
       "        vertical-align: top;\n",
       "    }\n",
       "\n",
       "    .dataframe thead th {\n",
       "        text-align: right;\n",
       "    }\n",
       "</style>\n",
       "<table border=\"1\" class=\"dataframe\">\n",
       "  <thead>\n",
       "    <tr style=\"text-align: right;\">\n",
       "      <th></th>\n",
       "      <th>city</th>\n",
       "      <th>rent_amount</th>\n",
       "    </tr>\n",
       "  </thead>\n",
       "  <tbody>\n",
       "    <tr>\n",
       "      <th>4</th>\n",
       "      <td>São Paulo</td>\n",
       "      <td>4652.793783</td>\n",
       "    </tr>\n",
       "    <tr>\n",
       "      <th>0</th>\n",
       "      <td>Belo Horizonte</td>\n",
       "      <td>3664.127981</td>\n",
       "    </tr>\n",
       "    <tr>\n",
       "      <th>3</th>\n",
       "      <td>Rio de Janeiro</td>\n",
       "      <td>3232.904064</td>\n",
       "    </tr>\n",
       "    <tr>\n",
       "      <th>1</th>\n",
       "      <td>Campinas</td>\n",
       "      <td>2364.290739</td>\n",
       "    </tr>\n",
       "    <tr>\n",
       "      <th>2</th>\n",
       "      <td>Porto Alegre</td>\n",
       "      <td>2337.699916</td>\n",
       "    </tr>\n",
       "  </tbody>\n",
       "</table>\n",
       "</div>"
      ],
      "text/plain": [
       "             city  rent_amount\n",
       "4       São Paulo  4652.793783\n",
       "0  Belo Horizonte  3664.127981\n",
       "3  Rio de Janeiro  3232.904064\n",
       "1        Campinas  2364.290739\n",
       "2    Porto Alegre  2337.699916"
      ]
     },
     "execution_count": 103,
     "metadata": {},
     "output_type": "execute_result"
    }
   ],
   "source": [
    "# Which city has the most expensive rental average?\n",
    "# R: São Paulo\n",
    "\n",
    "df.groupby('city')['rent_amount'].mean().reset_index().sort_values('rent_amount', ascending = False)"
   ]
  },
  {
   "cell_type": "code",
   "execution_count": 184,
   "metadata": {},
   "outputs": [],
   "source": [
    "# How many bathrooms are there on average in homes with higher rent?\n",
    "## definition: higher rents are above 5000\n",
    "\n",
    "df['rent_amount_classification'] = ['Higher' if x > 5000 else 'Low' for x in df ['rent_amount']]"
   ]
  },
  {
   "cell_type": "code",
   "execution_count": 185,
   "metadata": {},
   "outputs": [
    {
     "data": {
      "text/plain": [
       "Low       8153\n",
       "Higher    2539\n",
       "Name: rent_amount_classification, dtype: int64"
      ]
     },
     "execution_count": 185,
     "metadata": {},
     "output_type": "execute_result"
    }
   ],
   "source": [
    "df['rent_amount_classification'].value_counts()"
   ]
  },
  {
   "cell_type": "code",
   "execution_count": 186,
   "metadata": {},
   "outputs": [
    {
     "data": {
      "text/plain": [
       "rent_amount_classification\n",
       "Higher    3.729027\n",
       "Low       1.772108\n",
       "Name: bathroom, dtype: float64"
      ]
     },
     "execution_count": 186,
     "metadata": {},
     "output_type": "execute_result"
    }
   ],
   "source": [
    "df.groupby('rent_amount_classification')['bathroom'].mean()\n",
    "\n",
    "#R: Approximately 4 bathrooms"
   ]
  },
  {
   "cell_type": "code",
   "execution_count": 208,
   "metadata": {},
   "outputs": [
    {
     "data": {
      "text/plain": [
       "82.07955888144939"
      ]
     },
     "execution_count": 208,
     "metadata": {},
     "output_type": "execute_result"
    }
   ],
   "source": [
    "# Do the most expensive properties accept animals?\n",
    "## definition: higher rents are above 5000\n",
    "\n",
    "aux = df.query('rent_amount_classification == \"Higher\" & animal == \"acept\"')['animal'].count()\n",
    "# print('acept: ' + str(aux))\n",
    "\n",
    "# aux = df.query('rent_amount_classification == \"Higher\" & animal == \"not acept\"')['animal'].count()\n",
    "# print('not acept: ' + str(aux))\n",
    "\n",
    "# print('\\ntotal: ' + str(df[filter_higher]['animal'].count()))\n",
    "\n",
    "aux * 100 / df[filter_higher]['animal'].count()\n",
    "\n",
    "#R: Approximately 82%, yes"
   ]
  },
  {
   "cell_type": "code",
   "execution_count": 209,
   "metadata": {},
   "outputs": [
    {
     "data": {
      "text/plain": [
       "34.580543521071284"
      ]
     },
     "execution_count": 209,
     "metadata": {},
     "output_type": "execute_result"
    }
   ],
   "source": [
    "# Are the most expensive properties furnished?\n",
    "## definition: higher rents are above 5000\n",
    "\n",
    "aux = df.query('rent_amount_classification == \"Higher\" & furniture == \"furnished\"')['furniture'].count()\n",
    "# print('furnished: ' + str(aux))\n",
    "\n",
    "# aux = df.query('rent_amount_classification == \"Higher\" & furniture == \"not furnished\"')['furniture'].count()\n",
    "# print('not furnished: ' + str(aux))\n",
    "\n",
    "# print('\\ntotal: ' + str(df[filter_higher]['furniture'].count()))\n",
    "\n",
    "aux * 100 / df[filter_higher]['furniture'].count()\n",
    "\n",
    "#R: Approximately only for 35%"
   ]
  },
  {
   "cell_type": "code",
   "execution_count": 216,
   "metadata": {},
   "outputs": [
    {
     "data": {
      "text/html": [
       "<div>\n",
       "<style scoped>\n",
       "    .dataframe tbody tr th:only-of-type {\n",
       "        vertical-align: middle;\n",
       "    }\n",
       "\n",
       "    .dataframe tbody tr th {\n",
       "        vertical-align: top;\n",
       "    }\n",
       "\n",
       "    .dataframe thead th {\n",
       "        text-align: right;\n",
       "    }\n",
       "</style>\n",
       "<table border=\"1\" class=\"dataframe\">\n",
       "  <thead>\n",
       "    <tr style=\"text-align: right;\">\n",
       "      <th></th>\n",
       "      <th>rent_amount</th>\n",
       "      <th>bathroom</th>\n",
       "    </tr>\n",
       "  </thead>\n",
       "  <tbody>\n",
       "    <tr>\n",
       "      <th>rent_amount</th>\n",
       "      <td>1.000000</td>\n",
       "      <td>0.668504</td>\n",
       "    </tr>\n",
       "    <tr>\n",
       "      <th>bathroom</th>\n",
       "      <td>0.668504</td>\n",
       "      <td>1.000000</td>\n",
       "    </tr>\n",
       "  </tbody>\n",
       "</table>\n",
       "</div>"
      ],
      "text/plain": [
       "             rent_amount  bathroom\n",
       "rent_amount     1.000000  0.668504\n",
       "bathroom        0.668504  1.000000"
      ]
     },
     "execution_count": 216,
     "metadata": {},
     "output_type": "execute_result"
    }
   ],
   "source": [
    "# São Paulo is the city with the most expensive rent.\n",
    "\n",
    "df[['rent_amount', 'bathroom']].corr(method = 'pearson')"
   ]
  },
  {
   "cell_type": "code",
   "execution_count": 213,
   "metadata": {},
   "outputs": [
    {
     "data": {
      "text/html": [
       "<div>\n",
       "<style scoped>\n",
       "    .dataframe tbody tr th:only-of-type {\n",
       "        vertical-align: middle;\n",
       "    }\n",
       "\n",
       "    .dataframe tbody tr th {\n",
       "        vertical-align: top;\n",
       "    }\n",
       "\n",
       "    .dataframe thead th {\n",
       "        text-align: right;\n",
       "    }\n",
       "</style>\n",
       "<table border=\"1\" class=\"dataframe\">\n",
       "  <thead>\n",
       "    <tr style=\"text-align: right;\">\n",
       "      <th></th>\n",
       "      <th>rent_amount</th>\n",
       "      <th>bathroom</th>\n",
       "    </tr>\n",
       "  </thead>\n",
       "  <tbody>\n",
       "    <tr>\n",
       "      <th>rent_amount</th>\n",
       "      <td>1.00000</td>\n",
       "      <td>0.71589</td>\n",
       "    </tr>\n",
       "    <tr>\n",
       "      <th>bathroom</th>\n",
       "      <td>0.71589</td>\n",
       "      <td>1.00000</td>\n",
       "    </tr>\n",
       "  </tbody>\n",
       "</table>\n",
       "</div>"
      ],
      "text/plain": [
       "             rent_amount  bathroom\n",
       "rent_amount      1.00000   0.71589\n",
       "bathroom         0.71589   1.00000"
      ]
     },
     "execution_count": 213,
     "metadata": {},
     "output_type": "execute_result"
    }
   ],
   "source": [
    "df[['rent_amount', 'bathroom']].corr(method = 'spearman')\n",
    "\n",
    "#R: Yes, has a strong correlation"
   ]
  },
  {
   "cell_type": "code",
   "execution_count": null,
   "metadata": {},
   "outputs": [],
   "source": []
  },
  {
   "cell_type": "markdown",
   "metadata": {},
   "source": [
    "### Example of correlation checking"
   ]
  },
  {
   "cell_type": "code",
   "execution_count": 220,
   "metadata": {},
   "outputs": [],
   "source": [
    "aux = pd.DataFrame({ 'columns': df.columns, 'types': df.dtypes })"
   ]
  },
  {
   "cell_type": "code",
   "execution_count": 223,
   "metadata": {},
   "outputs": [],
   "source": [
    "list = list(aux[aux['types'] == 'int64']['columns'])"
   ]
  },
  {
   "cell_type": "code",
   "execution_count": 233,
   "metadata": {},
   "outputs": [
    {
     "name": "stdout",
     "output_type": "stream",
     "text": [
      "area\n",
      "             rent_amount      area\n",
      "rent_amount     1.000000  0.728095\n",
      "area            0.728095  1.000000 \n",
      "\n",
      "\n",
      "rooms\n",
      "             rent_amount     rooms\n",
      "rent_amount     1.000000  0.600969\n",
      "rooms           0.600969  1.000000 \n",
      "\n",
      "\n",
      "bathroom\n",
      "             rent_amount  bathroom\n",
      "rent_amount      1.00000   0.71589\n",
      "bathroom         0.71589   1.00000 \n",
      "\n",
      "\n",
      "parking spaces\n",
      "                rent_amount  parking spaces\n",
      "rent_amount        1.000000        0.620175\n",
      "parking spaces     0.620175        1.000000 \n",
      "\n",
      "\n",
      "hoa (R$)\n",
      "             rent_amount  hoa (R$)\n",
      "rent_amount     1.000000  0.355785\n",
      "hoa (R$)        0.355785  1.000000 \n",
      "\n",
      "\n",
      "rent_amount\n",
      "             rent_amount  rent_amount\n",
      "rent_amount          1.0          1.0\n",
      "rent_amount          1.0          1.0 \n",
      "\n",
      "\n",
      "property tax (R$)\n",
      "                   rent_amount  property tax (R$)\n",
      "rent_amount            1.00000            0.65923\n",
      "property tax (R$)      0.65923            1.00000 \n",
      "\n",
      "\n",
      "fire insurance (R$)\n",
      "                     rent_amount  fire insurance (R$)\n",
      "rent_amount             1.000000             0.988045\n",
      "fire insurance (R$)     0.988045             1.000000 \n",
      "\n",
      "\n",
      "total (R$)\n",
      "             rent_amount  total (R$)\n",
      "rent_amount     1.000000    0.968176\n",
      "total (R$)      0.968176    1.000000 \n",
      "\n",
      "\n"
     ]
    }
   ],
   "source": [
    "for columns in list:\n",
    "    print(columns)\n",
    "    print(df[['rent_amount', columns]].corr(method = 'spearman'), '\\n\\n')"
   ]
  },
  {
   "cell_type": "code",
   "execution_count": null,
   "metadata": {},
   "outputs": [],
   "source": []
  }
 ],
 "metadata": {
  "kernelspec": {
   "display_name": "Python 3",
   "language": "python",
   "name": "python3"
  },
  "language_info": {
   "codemirror_mode": {
    "name": "ipython",
    "version": 3
   },
   "file_extension": ".py",
   "mimetype": "text/x-python",
   "name": "python",
   "nbconvert_exporter": "python",
   "pygments_lexer": "ipython3",
   "version": "3.7.6"
  }
 },
 "nbformat": 4,
 "nbformat_minor": 4
}
